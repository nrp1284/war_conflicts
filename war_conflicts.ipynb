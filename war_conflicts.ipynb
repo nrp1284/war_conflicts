{
 "cells": [
  {
   "cell_type": "code",
   "execution_count": 25,
   "id": "710f0a05",
   "metadata": {},
   "outputs": [],
   "source": [
    "%matplotlib inline\n",
    "\n",
    "# import dependencies\n",
    "import pandas as pd\n",
    "import numpy as np\n",
    "import matplotlib.pyplot as plt\n",
    "import pandas as pd\n",
    "import hvplot.pandas\n",
    "from pathlib import Path\n",
    "import plotly.express as px"
   ]
  },
  {
   "cell_type": "code",
   "execution_count": 26,
   "id": "c4190984",
   "metadata": {},
   "outputs": [
    {
     "data": {
      "text/html": [
       "<div>\n",
       "<style scoped>\n",
       "    .dataframe tbody tr th:only-of-type {\n",
       "        vertical-align: middle;\n",
       "    }\n",
       "\n",
       "    .dataframe tbody tr th {\n",
       "        vertical-align: top;\n",
       "    }\n",
       "\n",
       "    .dataframe thead th {\n",
       "        text-align: right;\n",
       "    }\n",
       "</style>\n",
       "<table border=\"1\" class=\"dataframe\">\n",
       "  <thead>\n",
       "    <tr style=\"text-align: right;\">\n",
       "      <th></th>\n",
       "      <th>Headline</th>\n",
       "      <th>Conflict</th>\n",
       "      <th>Country</th>\n",
       "      <th>Region</th>\n",
       "      <th>Description</th>\n",
       "      <th>Sources</th>\n",
       "    </tr>\n",
       "    <tr>\n",
       "      <th>Date</th>\n",
       "      <th></th>\n",
       "      <th></th>\n",
       "      <th></th>\n",
       "      <th></th>\n",
       "      <th></th>\n",
       "      <th></th>\n",
       "    </tr>\n",
       "  </thead>\n",
       "  <tbody>\n",
       "    <tr>\n",
       "      <th>3000 BC</th>\n",
       "      <td>God Punishes Man with Six-Day Storm</td>\n",
       "      <td>Weapon</td>\n",
       "      <td>Unknown</td>\n",
       "      <td>Western Asia</td>\n",
       "      <td>Ancient Sumerian legend recounts the deeds of ...</td>\n",
       "      <td>Hatami and Gleick 1994</td>\n",
       "    </tr>\n",
       "    <tr>\n",
       "      <th>2500 BC</th>\n",
       "      <td>Lagash-Umma border dispute</td>\n",
       "      <td>Weapon</td>\n",
       "      <td>Mesopotamia</td>\n",
       "      <td>Western Asia</td>\n",
       "      <td>The dispute over the Gu'edena (edge of paradis...</td>\n",
       "      <td>Hatami and Gleick 1994</td>\n",
       "    </tr>\n",
       "    <tr>\n",
       "      <th>1720-1684 BC</th>\n",
       "      <td>Tigris River dammed</td>\n",
       "      <td>Weapon</td>\n",
       "      <td>Mesopotamia</td>\n",
       "      <td>Western Asia</td>\n",
       "      <td>A grandson of Hammurabi, Abish or Abi-Eshuh, d...</td>\n",
       "      <td>Hatami and Gleick 1994</td>\n",
       "    </tr>\n",
       "    <tr>\n",
       "      <th>circa 1300 BC</th>\n",
       "      <td>Kishon River flooded in defeat of Sisera</td>\n",
       "      <td>Weapon</td>\n",
       "      <td>Unknown</td>\n",
       "      <td>Western Asia</td>\n",
       "      <td>The Old Testament gives an account of the defe...</td>\n",
       "      <td>Scofield 1967</td>\n",
       "    </tr>\n",
       "    <tr>\n",
       "      <th>1200 BC</th>\n",
       "      <td>Moses parts the Red Sea</td>\n",
       "      <td>Weapon</td>\n",
       "      <td>Egypt</td>\n",
       "      <td>Northern Africa</td>\n",
       "      <td>When Moses and the retreating Jews find themse...</td>\n",
       "      <td>Hatami and Gleick 1994</td>\n",
       "    </tr>\n",
       "  </tbody>\n",
       "</table>\n",
       "</div>"
      ],
      "text/plain": [
       "                                               Headline Conflict      Country  \\\n",
       "Date                                                                            \n",
       "3000 BC             God Punishes Man with Six-Day Storm   Weapon      Unknown   \n",
       "2500 BC                      Lagash-Umma border dispute   Weapon  Mesopotamia   \n",
       "1720-1684 BC                        Tigris River dammed   Weapon  Mesopotamia   \n",
       "circa 1300 BC  Kishon River flooded in defeat of Sisera   Weapon      Unknown   \n",
       "1200 BC                         Moses parts the Red Sea   Weapon        Egypt   \n",
       "\n",
       "                        Region  \\\n",
       "Date                             \n",
       "3000 BC           Western Asia   \n",
       "2500 BC           Western Asia   \n",
       "1720-1684 BC      Western Asia   \n",
       "circa 1300 BC     Western Asia   \n",
       "1200 BC        Northern Africa   \n",
       "\n",
       "                                                     Description  \\\n",
       "Date                                                               \n",
       "3000 BC        Ancient Sumerian legend recounts the deeds of ...   \n",
       "2500 BC        The dispute over the Gu'edena (edge of paradis...   \n",
       "1720-1684 BC   A grandson of Hammurabi, Abish or Abi-Eshuh, d...   \n",
       "circa 1300 BC  The Old Testament gives an account of the defe...   \n",
       "1200 BC        When Moses and the retreating Jews find themse...   \n",
       "\n",
       "                              Sources  \n",
       "Date                                   \n",
       "3000 BC        Hatami and Gleick 1994  \n",
       "2500 BC        Hatami and Gleick 1994  \n",
       "1720-1684 BC   Hatami and Gleick 1994  \n",
       "circa 1300 BC           Scofield 1967  \n",
       "1200 BC        Hatami and Gleick 1994  "
      ]
     },
     "execution_count": 26,
     "metadata": {},
     "output_type": "execute_result"
    }
   ],
   "source": [
    "# Load the war_conflicts dataset includng current 2022 data\n",
    "\n",
    "file_path = \"./resources/conflicts_wars.csv\"\n",
    "war_df = pd.read_csv(file_path,index_col=0)\n",
    "war_df.head()"
   ]
  },
  {
   "cell_type": "code",
   "execution_count": 27,
   "id": "af17dfdb",
   "metadata": {},
   "outputs": [
    {
     "data": {
      "text/plain": [
       "926"
      ]
     },
     "execution_count": 27,
     "metadata": {},
     "output_type": "execute_result"
    }
   ],
   "source": [
    "len(war_df)"
   ]
  },
  {
   "cell_type": "code",
   "execution_count": 28,
   "id": "dda93492",
   "metadata": {},
   "outputs": [
    {
     "name": "stdout",
     "output_type": "stream",
     "text": [
      "<class 'pandas.core.frame.DataFrame'>\n",
      "Index: 926 entries, 3000 BC to 2022\n",
      "Data columns (total 6 columns):\n",
      " #   Column       Non-Null Count  Dtype \n",
      "---  ------       --------------  ----- \n",
      " 0   Headline     926 non-null    object\n",
      " 1   Conflict     926 non-null    object\n",
      " 2   Country      926 non-null    object\n",
      " 3   Region       926 non-null    object\n",
      " 4   Description  926 non-null    object\n",
      " 5   Sources      926 non-null    object\n",
      "dtypes: object(6)\n",
      "memory usage: 50.6+ KB\n"
     ]
    }
   ],
   "source": [
    "war_df.info()"
   ]
  },
  {
   "cell_type": "code",
   "execution_count": 29,
   "id": "d75d2bc6",
   "metadata": {},
   "outputs": [],
   "source": [
    "import seaborn as sns"
   ]
  },
  {
   "cell_type": "code",
   "execution_count": 35,
   "id": "83139747",
   "metadata": {},
   "outputs": [
    {
     "name": "stderr",
     "output_type": "stream",
     "text": [
      "C:\\anaconda\\envs\\PythonData\\lib\\site-packages\\seaborn\\_decorators.py:43: FutureWarning: Pass the following variable as a keyword arg: x. From version 0.12, the only valid positional argument will be `data`, and passing other arguments without an explicit keyword will result in an error or misinterpretation.\n",
      "  FutureWarning\n"
     ]
    },
    {
     "data": {
      "image/png": "[encoded data removed]",
      "text/plain": [
       "<Figure size 1440x432 with 1 Axes>"
      ]
     },
     "metadata": {
      "needs_background": "light"
     },
     "output_type": "display_data"
    }
   ],
   "source": [
    "plt.figure(figsize=(20,6))\n",
    "g = sns.countplot(war_df.Conflict, palette=\"pastel\");\n",
    "plt.title(\"Count of war and country\")\n",
    "plt.xlabel(\"Type ('Conflicts\")\n",
    "plt.ylabel(\"Count\")\n",
    "plt.show()"
   ]
  },
  {
   "cell_type": "code",
   "execution_count": null,
   "id": "55449888",
   "metadata": {},
   "outputs": [],
   "source": []
  }
 ],
 "metadata": {
  "kernelspec": {
   "display_name": "PythonData",
   "language": "python",
   "name": "pythondata"
  },
  "language_info": {
   "codemirror_mode": {
    "name": "ipython",
    "version": 3
   },
   "file_extension": ".py",
   "mimetype": "text/x-python",
   "name": "python",
   "nbconvert_exporter": "python",
   "pygments_lexer": "ipython3",
   "version": "3.7.10"
  }
 },
 "nbformat": 4,
 "nbformat_minor": 5
}
